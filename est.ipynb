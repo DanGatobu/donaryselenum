{
 "cells": [
  {
   "cell_type": "code",
   "execution_count": 1,
   "metadata": {},
   "outputs": [],
   "source": [
    "from selenium import webdriver"
   ]
  },
  {
   "cell_type": "code",
   "execution_count": null,
   "metadata": {},
   "outputs": [],
   "source": [
    "import os\n"
   ]
  },
  {
   "cell_type": "code",
   "execution_count": 3,
   "metadata": {},
   "outputs": [],
   "source": [
    "import selenium.webdriver.common.keys as Keys"
   ]
  },
  {
   "cell_type": "code",
   "execution_count": 4,
   "metadata": {},
   "outputs": [
    {
     "name": "stdout",
     "output_type": "stream",
     "text": [
      "d:\\needed\\dns projects\\donaryv2\n"
     ]
    }
   ],
   "source": [
    "try:\n",
    "\n",
    "    project_dir = os.path.dirname(os.path.abspath(__file__))\n",
    "except:\n",
    "    project_dir = os.getcwd()\n",
    "    \n",
    "print(project_dir)\n",
    "\n",
    "# Set up Chrome options to download files to the project directory\n",
    "chrome_options = webdriver.ChromeOptions()\n",
    "prefs = {\n",
    "    \"download.default_directory\": project_dir,  # Set download folder to project directory\n",
    "    \"download.prompt_for_download\": False,      # Disable download prompt\n",
    "    \"directory_upgrade\": True,\n",
    "    \"safebrowsing.enabled\": True                # Disable security warning (optional)\n",
    "}\n",
    "chrome_options.add_experimental_option(\"prefs\", prefs)"
   ]
  },
  {
   "cell_type": "code",
   "execution_count": 5,
   "metadata": {},
   "outputs": [],
   "source": [
    "driver= webdriver.Chrome(options=chrome_options)"
   ]
  },
  {
   "cell_type": "code",
   "execution_count": 6,
   "metadata": {},
   "outputs": [],
   "source": [
    "from functions import *"
   ]
  },
  {
   "cell_type": "code",
   "execution_count": 7,
   "metadata": {},
   "outputs": [],
   "source": [
    "import time"
   ]
  },
  {
   "cell_type": "code",
   "execution_count": 8,
   "metadata": {},
   "outputs": [
    {
     "name": "stdout",
     "output_type": "stream",
     "text": [
      "Element found: ('xpath', \"//input[@name='email' and @placeholder='User name']\")\n",
      "Element found: ('xpath', \"//input[@name='password' and @placeholder='Password' and @id='passwordId']\")\n",
      "Element found: ('xpath', \"//button[contains(@class, 'btnsignin')]\")\n"
     ]
    }
   ],
   "source": [
    "login(driver)"
   ]
  },
  {
   "cell_type": "code",
   "execution_count": 9,
   "metadata": {},
   "outputs": [
    {
     "name": "stdout",
     "output_type": "stream",
     "text": [
      "Element found: ('xpath', \"//a[@data-widget='pushmenu']\")\n"
     ]
    }
   ],
   "source": [
    "togglemenu(driver)"
   ]
  },
  {
   "cell_type": "code",
   "execution_count": null,
   "metadata": {},
   "outputs": [],
   "source": []
  },
  {
   "cell_type": "code",
   "execution_count": 10,
   "metadata": {},
   "outputs": [
    {
     "name": "stdout",
     "output_type": "stream",
     "text": [
      "Element found: ('class name', 'filter_text')\n",
      "Element found: ('xpath', \"//span[text()='Select Payment Type']\")\n",
      "Element found: ('xpath', \"//input[@placeholder='Search Payment Type']\")\n",
      "Element found: ('xpath', \"//label[text()='Pledger']\")\n",
      "Element found: ('xpath', \"//label[text()='Credit Card']\")\n",
      "Element found: ('xpath', \"//label[text()='OJC']\")\n",
      "Element found: ('xpath', \"//label[text()='Matbia']\")\n",
      "Element found: ('xpath', \"//span[text()='Select Collector']\")\n",
      "Element found: ('xpath', '//*[@id=\"ddlPaymentStatus\"]/div/div[1]/div/span[2]')\n",
      "Element found: ('xpath', \"//span[text()='Select Payment Status']\")\n",
      "Element found: ('xpath', '//*[@id=\"ddlPaymentStatus\"]/div/div[2]/div[3]/div[1]/label')\n",
      "Element found: ('xpath', \"//button[text()=' Search' and contains(@class, 'btn-primary')]\")\n"
     ]
    }
   ],
   "source": [
    "filters(driver)"
   ]
  },
  {
   "cell_type": "code",
   "execution_count": 11,
   "metadata": {},
   "outputs": [
    {
     "name": "stdout",
     "output_type": "stream",
     "text": [
      "Element found: ('xpath', '//*[@id=\"paymentTransactionsCalender\"]/div[1]/span/i')\n",
      "Element found: ('xpath', \"//button[@id='id_today']\")\n",
      "Element found: ('xpath', '//*[@id=\"ngb-popover-0\"]/div[2]/app-common-hebrew-english-calendar/div[3]/button[2]')\n",
      "Element found: ('xpath', '//*[@id=\"dLabel\"]')\n",
      "Element found: ('xpath', '//*[@id=\"cdk-drop-list-0\"]/div[4]/div/span/label')\n",
      "Element found: ('xpath', '//*[@id=\"cdk-drop-list-0\"]/div[6]/div/span')\n",
      "Element found: ('xpath', '//*[@id=\"cdk-drop-list-0\"]/div[7]/div/span/label')\n",
      "Element found: ('xpath', '//*[@id=\"cdk-drop-list-0\"]/div[9]/div/span/label')\n",
      "Element found: ('xpath', '//*[@id=\"cdk-drop-list-0\"]/div[8]/div/span/label')\n",
      "Element found: ('xpath', '//*[@id=\"cdk-drop-list-0\"]/div[9]/div/span/label')\n",
      "Element found: ('xpath', '//*[@id=\"cdk-drop-list-0\"]/div[11]/div/span')\n",
      "Element found: ('xpath', '//*[@id=\"cdk-drop-list-0\"]/div[12]/div/span/label')\n",
      "Element found: ('xpath', '//*[@id=\"cdk-drop-list-0\"]/div[14]/div/span/label')\n",
      "Element found: ('xpath', '//*[@id=\"cdk-drop-list-0\"]/div[15]/div/span/label')\n",
      "Element found: ('xpath', '//*[@id=\"cdk-drop-list-0\"]/div[16]/div/span/label')\n",
      "Element found: ('xpath', '//*[@id=\"cdk-drop-list-0\"]/div[15]/div/span')\n",
      "Element found: ('xpath', '//*[@id=\"cdk-drop-list-0\"]/div[17]/div/span/label')\n",
      "Element found: ('xpath', '//*[@id=\"cdk-drop-list-0\"]/div[20]/div/span')\n",
      "Element found: ('xpath', '//*[@id=\"cdk-drop-list-0\"]/div[21]/div/span/label')\n",
      "Element found: ('xpath', '//*[@id=\"cdk-drop-list-0\"]/div[22]/div/span/label')\n",
      "Element found: ('xpath', '//*[@id=\"cdk-drop-list-0\"]/div[23]/div/span/label')\n",
      "Element found: ('xpath', '//*[@id=\"cdk-drop-list-0\"]/div[24]/div/span/label')\n",
      "Element found: ('xpath', '//*[@id=\"cdk-drop-list-0\"]/div[25]/div/span/label')\n",
      "Element found: ('xpath', '//*[@id=\"cdk-drop-list-0\"]/div[25]/div/span')\n",
      "Element found: ('xpath', '//*[@id=\"cdk-drop-list-0\"]/div[26]/div/span/label')\n",
      "Element found: ('xpath', '//*[@id=\"cdk-drop-list-0\"]/div[27]/div/span/label')\n",
      "Element found: ('xpath', '//*[@id=\"cdk-drop-list-0\"]/div[28]/div/span/label')\n",
      "Element found: ('xpath', '//*[@id=\"cdk-drop-list-0\"]/div[29]/div/span/label')\n",
      "Element found: ('xpath', '//*[@id=\"cdk-drop-list-0\"]/div[30]/div/span/label')\n",
      "Element found: ('xpath', '//*[@id=\"cdk-drop-list-0\"]/div[30]/div/span')\n",
      "Element found: ('xpath', '//*[@id=\"cdk-drop-list-0\"]/div[31]/div/span/label')\n",
      "Element found: ('xpath', '//*[@id=\"cdk-drop-list-0\"]/div[32]/div/span/label')\n",
      "Element found: ('xpath', '//*[@id=\"cdk-drop-list-0\"]/div[33]/div/span/label')\n",
      "Element found: ('xpath', '//*[@id=\"cdk-drop-list-0\"]/div[34]/div/span/label')\n",
      "Element found: ('xpath', '//*[@id=\"cdk-drop-list-0\"]/div[35]/div/span/label')\n",
      "Element found: ('xpath', '//*[@id=\"cdk-drop-list-0\"]/div[35]/div/span')\n",
      "Element found: ('xpath', '//*[@id=\"cdk-drop-list-0\"]/div[36]/div/span/label')\n",
      "Element found: ('xpath', '//*[@id=\"cdk-drop-list-0\"]/div[37]/div/span/label')\n",
      "Element found: ('xpath', '//*[@id=\"cdk-drop-list-0\"]/div[38]/div/span/label')\n",
      "Element found: ('xpath', '//*[@id=\"cdk-drop-list-0\"]/div[39]/div/span/label')\n",
      "Element found: ('xpath', '//*[@id=\"cdk-drop-list-0\"]/div[40]/div/span/label')\n",
      "Element found: ('xpath', '//*[@id=\"cdk-drop-list-0\"]/div[40]/div/span')\n",
      "Element found: ('xpath', '//*[@id=\"cdk-drop-list-0\"]/div[41]/div/span/label')\n",
      "Element found: ('xpath', '//*[@id=\"cdk-drop-list-0\"]/div[42]/div/span/label')\n",
      "Element found: ('xpath', '//*[@id=\"cdk-drop-list-0\"]/div[43]/div/span/label')\n",
      "Element found: ('xpath', '//*[@id=\"dLabel\"]')\n"
     ]
    },
    {
     "ename": "ElementClickInterceptedException",
     "evalue": "Message: element click intercepted: Element <button _ngcontent-ng-c2689047135=\"\" id=\"dLabel\" type=\"button\" data-toggle=\"dropdown\" aria-haspopup=\"true\" aria-expanded=\"true\" class=\"btn btn-default dropdown-toggle\">...</button> is not clickable at point (941, 33). Other element would receive the click: <a _ngcontent-ng-c1220776993=\"\" href=\"https://form.jotform.com/242596780145060\" target=\"_blank\" title=\"\" data-toggle=\"tooltip\" apphovertooltip=\"\" class=\"icon icon-help\" t-title=\"Help &amp; Feedback\">...</a>\n  (Session info: chrome=129.0.6668.59)\nStacktrace:\n\tGetHandleVerifier [0x00007FF66A3BB125+29573]\n\t(No symbol) [0x00007FF66A32FF50]\n\t(No symbol) [0x00007FF66A1EB6EA]\n\t(No symbol) [0x00007FF66A2474EE]\n\t(No symbol) [0x00007FF66A244F3C]\n\t(No symbol) [0x00007FF66A242408]\n\t(No symbol) [0x00007FF66A24161A]\n\t(No symbol) [0x00007FF66A2336BE]\n\t(No symbol) [0x00007FF66A2672FA]\n\t(No symbol) [0x00007FF66A232FF6]\n\t(No symbol) [0x00007FF66A267510]\n\t(No symbol) [0x00007FF66A2886BC]\n\t(No symbol) [0x00007FF66A2670A3]\n\t(No symbol) [0x00007FF66A2312DF]\n\t(No symbol) [0x00007FF66A232441]\n\tGetHandleVerifier [0x00007FF66A6EC76D+3377613]\n\tGetHandleVerifier [0x00007FF66A737B67+3685831]\n\tGetHandleVerifier [0x00007FF66A72CF8B+3641835]\n\tGetHandleVerifier [0x00007FF66A47B2A6+816390]\n\t(No symbol) [0x00007FF66A33B25F]\n\t(No symbol) [0x00007FF66A337084]\n\t(No symbol) [0x00007FF66A337220]\n\t(No symbol) [0x00007FF66A32607F]\n\tBaseThreadInitThunk [0x00007FF8EBAE257D+29]\n\tRtlUserThreadStart [0x00007FF8EBCEAF28+40]\n",
     "output_type": "error",
     "traceback": [
      "\u001b[1;31m---------------------------------------------------------------------------\u001b[0m",
      "\u001b[1;31mElementClickInterceptedException\u001b[0m          Traceback (most recent call last)",
      "Cell \u001b[1;32mIn[11], line 3\u001b[0m\n\u001b[0;32m      1\u001b[0m calender(driver)\n\u001b[1;32m----> 3\u001b[0m \u001b[43mexportfilters\u001b[49m\u001b[43m(\u001b[49m\u001b[43mdriver\u001b[49m\u001b[43m)\u001b[49m\n\u001b[0;32m      4\u001b[0m exportfile(driver)\n",
      "File \u001b[1;32md:\\needed\\dns projects\\donaryv2\\functions.py:321\u001b[0m, in \u001b[0;36mexportfilters\u001b[1;34m(driver)\u001b[0m\n\u001b[0;32m    317\u001b[0m export_filter_element\u001b[38;5;241m=\u001b[39mfind_single_element_with_retries(driver,locator\u001b[38;5;241m=\u001b[39m(By\u001b[38;5;241m.\u001b[39mXPATH,\u001b[38;5;124m'\u001b[39m\u001b[38;5;124m//*[@id=\u001b[39m\u001b[38;5;124m\"\u001b[39m\u001b[38;5;124mdLabel\u001b[39m\u001b[38;5;124m\"\u001b[39m\u001b[38;5;124m]\u001b[39m\u001b[38;5;124m'\u001b[39m))\n\u001b[0;32m    319\u001b[0m slowsctipt()\n\u001b[1;32m--> 321\u001b[0m \u001b[43mexport_filter_element\u001b[49m\u001b[38;5;241;43m.\u001b[39;49m\u001b[43mclick\u001b[49m\u001b[43m(\u001b[49m\u001b[43m)\u001b[49m\n",
      "File \u001b[1;32mc:\\Users\\DELL\\anaconda3\\envs\\donary2\\lib\\site-packages\\selenium\\webdriver\\remote\\webelement.py:94\u001b[0m, in \u001b[0;36mWebElement.click\u001b[1;34m(self)\u001b[0m\n\u001b[0;32m     92\u001b[0m \u001b[38;5;28;01mdef\u001b[39;00m \u001b[38;5;21mclick\u001b[39m(\u001b[38;5;28mself\u001b[39m) \u001b[38;5;241m-\u001b[39m\u001b[38;5;241m>\u001b[39m \u001b[38;5;28;01mNone\u001b[39;00m:\n\u001b[0;32m     93\u001b[0m \u001b[38;5;250m    \u001b[39m\u001b[38;5;124;03m\"\"\"Clicks the element.\"\"\"\u001b[39;00m\n\u001b[1;32m---> 94\u001b[0m     \u001b[38;5;28;43mself\u001b[39;49m\u001b[38;5;241;43m.\u001b[39;49m\u001b[43m_execute\u001b[49m\u001b[43m(\u001b[49m\u001b[43mCommand\u001b[49m\u001b[38;5;241;43m.\u001b[39;49m\u001b[43mCLICK_ELEMENT\u001b[49m\u001b[43m)\u001b[49m\n",
      "File \u001b[1;32mc:\\Users\\DELL\\anaconda3\\envs\\donary2\\lib\\site-packages\\selenium\\webdriver\\remote\\webelement.py:395\u001b[0m, in \u001b[0;36mWebElement._execute\u001b[1;34m(self, command, params)\u001b[0m\n\u001b[0;32m    393\u001b[0m     params \u001b[38;5;241m=\u001b[39m {}\n\u001b[0;32m    394\u001b[0m params[\u001b[38;5;124m\"\u001b[39m\u001b[38;5;124mid\u001b[39m\u001b[38;5;124m\"\u001b[39m] \u001b[38;5;241m=\u001b[39m \u001b[38;5;28mself\u001b[39m\u001b[38;5;241m.\u001b[39m_id\n\u001b[1;32m--> 395\u001b[0m \u001b[38;5;28;01mreturn\u001b[39;00m \u001b[38;5;28;43mself\u001b[39;49m\u001b[38;5;241;43m.\u001b[39;49m\u001b[43m_parent\u001b[49m\u001b[38;5;241;43m.\u001b[39;49m\u001b[43mexecute\u001b[49m\u001b[43m(\u001b[49m\u001b[43mcommand\u001b[49m\u001b[43m,\u001b[49m\u001b[43m \u001b[49m\u001b[43mparams\u001b[49m\u001b[43m)\u001b[49m\n",
      "File \u001b[1;32mc:\\Users\\DELL\\anaconda3\\envs\\donary2\\lib\\site-packages\\selenium\\webdriver\\remote\\webdriver.py:354\u001b[0m, in \u001b[0;36mWebDriver.execute\u001b[1;34m(self, driver_command, params)\u001b[0m\n\u001b[0;32m    352\u001b[0m response \u001b[38;5;241m=\u001b[39m \u001b[38;5;28mself\u001b[39m\u001b[38;5;241m.\u001b[39mcommand_executor\u001b[38;5;241m.\u001b[39mexecute(driver_command, params)\n\u001b[0;32m    353\u001b[0m \u001b[38;5;28;01mif\u001b[39;00m response:\n\u001b[1;32m--> 354\u001b[0m     \u001b[38;5;28;43mself\u001b[39;49m\u001b[38;5;241;43m.\u001b[39;49m\u001b[43merror_handler\u001b[49m\u001b[38;5;241;43m.\u001b[39;49m\u001b[43mcheck_response\u001b[49m\u001b[43m(\u001b[49m\u001b[43mresponse\u001b[49m\u001b[43m)\u001b[49m\n\u001b[0;32m    355\u001b[0m     response[\u001b[38;5;124m\"\u001b[39m\u001b[38;5;124mvalue\u001b[39m\u001b[38;5;124m\"\u001b[39m] \u001b[38;5;241m=\u001b[39m \u001b[38;5;28mself\u001b[39m\u001b[38;5;241m.\u001b[39m_unwrap_value(response\u001b[38;5;241m.\u001b[39mget(\u001b[38;5;124m\"\u001b[39m\u001b[38;5;124mvalue\u001b[39m\u001b[38;5;124m\"\u001b[39m, \u001b[38;5;28;01mNone\u001b[39;00m))\n\u001b[0;32m    356\u001b[0m     \u001b[38;5;28;01mreturn\u001b[39;00m response\n",
      "File \u001b[1;32mc:\\Users\\DELL\\anaconda3\\envs\\donary2\\lib\\site-packages\\selenium\\webdriver\\remote\\errorhandler.py:229\u001b[0m, in \u001b[0;36mErrorHandler.check_response\u001b[1;34m(self, response)\u001b[0m\n\u001b[0;32m    227\u001b[0m         alert_text \u001b[38;5;241m=\u001b[39m value[\u001b[38;5;124m\"\u001b[39m\u001b[38;5;124malert\u001b[39m\u001b[38;5;124m\"\u001b[39m]\u001b[38;5;241m.\u001b[39mget(\u001b[38;5;124m\"\u001b[39m\u001b[38;5;124mtext\u001b[39m\u001b[38;5;124m\"\u001b[39m)\n\u001b[0;32m    228\u001b[0m     \u001b[38;5;28;01mraise\u001b[39;00m exception_class(message, screen, stacktrace, alert_text)  \u001b[38;5;66;03m# type: ignore[call-arg]  # mypy is not smart enough here\u001b[39;00m\n\u001b[1;32m--> 229\u001b[0m \u001b[38;5;28;01mraise\u001b[39;00m exception_class(message, screen, stacktrace)\n",
      "\u001b[1;31mElementClickInterceptedException\u001b[0m: Message: element click intercepted: Element <button _ngcontent-ng-c2689047135=\"\" id=\"dLabel\" type=\"button\" data-toggle=\"dropdown\" aria-haspopup=\"true\" aria-expanded=\"true\" class=\"btn btn-default dropdown-toggle\">...</button> is not clickable at point (941, 33). Other element would receive the click: <a _ngcontent-ng-c1220776993=\"\" href=\"https://form.jotform.com/242596780145060\" target=\"_blank\" title=\"\" data-toggle=\"tooltip\" apphovertooltip=\"\" class=\"icon icon-help\" t-title=\"Help &amp; Feedback\">...</a>\n  (Session info: chrome=129.0.6668.59)\nStacktrace:\n\tGetHandleVerifier [0x00007FF66A3BB125+29573]\n\t(No symbol) [0x00007FF66A32FF50]\n\t(No symbol) [0x00007FF66A1EB6EA]\n\t(No symbol) [0x00007FF66A2474EE]\n\t(No symbol) [0x00007FF66A244F3C]\n\t(No symbol) [0x00007FF66A242408]\n\t(No symbol) [0x00007FF66A24161A]\n\t(No symbol) [0x00007FF66A2336BE]\n\t(No symbol) [0x00007FF66A2672FA]\n\t(No symbol) [0x00007FF66A232FF6]\n\t(No symbol) [0x00007FF66A267510]\n\t(No symbol) [0x00007FF66A2886BC]\n\t(No symbol) [0x00007FF66A2670A3]\n\t(No symbol) [0x00007FF66A2312DF]\n\t(No symbol) [0x00007FF66A232441]\n\tGetHandleVerifier [0x00007FF66A6EC76D+3377613]\n\tGetHandleVerifier [0x00007FF66A737B67+3685831]\n\tGetHandleVerifier [0x00007FF66A72CF8B+3641835]\n\tGetHandleVerifier [0x00007FF66A47B2A6+816390]\n\t(No symbol) [0x00007FF66A33B25F]\n\t(No symbol) [0x00007FF66A337084]\n\t(No symbol) [0x00007FF66A337220]\n\t(No symbol) [0x00007FF66A32607F]\n\tBaseThreadInitThunk [0x00007FF8EBAE257D+29]\n\tRtlUserThreadStart [0x00007FF8EBCEAF28+40]\n"
     ]
    }
   ],
   "source": [
    "calender(driver)\n",
    "    \n",
    "exportfilters(driver)\n",
    "exportfile(driver)\n",
    "    "
   ]
  },
  {
   "cell_type": "code",
   "execution_count": 12,
   "metadata": {},
   "outputs": [],
   "source": []
  },
  {
   "cell_type": "code",
   "execution_count": 14,
   "metadata": {},
   "outputs": [
    {
     "name": "stdout",
     "output_type": "stream",
     "text": [
      "Element found: ('xpath', '//*[@id=\"dLabel\"]')\n"
     ]
    }
   ],
   "source": [
    "export_filter_element=find_single_element_with_retries(driver,locator=(By.XPATH,'//*[@id=\"dLabel\"]'))\n",
    "\n",
    "   \n",
    "\n",
    "export_filter_element.click()"
   ]
  },
  {
   "cell_type": "code",
   "execution_count": 15,
   "metadata": {},
   "outputs": [
    {
     "name": "stdout",
     "output_type": "stream",
     "text": [
      "Element found: ('xpath', '//*[@id=\"ngb-nav-0-panel\"]/app-payment-transaction/div[1]/div/div[1]/div[1]/div[3]/div[2]/button')\n",
      "Element found: ('xpath', '//*[@id=\"ngb-nav-0-panel\"]/app-payment-transaction/div[1]/div/div[1]/div[1]/div[3]/div[2]/ul/li[2]/a')\n"
     ]
    }
   ],
   "source": [
    "exportfile(driver)"
   ]
  },
  {
   "cell_type": "code",
   "execution_count": 16,
   "metadata": {},
   "outputs": [
    {
     "data": {
      "text/plain": [
       "['Transaction_Payment_List_2024-09-26T17_42.xlsx']"
      ]
     },
     "execution_count": 16,
     "metadata": {},
     "output_type": "execute_result"
    }
   ],
   "source": [
    "def find_excel_files():\n",
    "    # Get the current working directory\n",
    "    current_dir = os.getcwd()\n",
    "    \n",
    "    # List all files in the directory and filter for Excel files\n",
    "    excel_files = [file for file in os.listdir(current_dir) if file.endswith(('.xlsx', '.xls', '.xlsm'))]\n",
    "    \n",
    "    return excel_files\n",
    "\n",
    "l=find_excel_files()\n",
    "\n",
    "\n"
   ]
  },
  {
   "cell_type": "code",
   "execution_count": 18,
   "metadata": {},
   "outputs": [],
   "source": [
    "def delete_excel_files():\n",
    "    # Get the current working directory\n",
    "    current_dir = os.getcwd()\n",
    "    \n",
    "    # List all Excel files in the directory\n",
    "    excel_files = [os.path.join(current_dir, file) for file in os.listdir(current_dir) if file.endswith(('.xlsx', '.xls', '.xlsm'))]\n",
    "    \n",
    "    # Delete each Excel file found\n",
    "    for file in excel_files:\n",
    "        os.remove(file)\n",
    "        \n",
    "delete_excel_files()"
   ]
  },
  {
   "cell_type": "code",
   "execution_count": null,
   "metadata": {},
   "outputs": [],
   "source": []
  }
 ],
 "metadata": {
  "kernelspec": {
   "display_name": "donary2",
   "language": "python",
   "name": "python3"
  },
  "language_info": {
   "codemirror_mode": {
    "name": "ipython",
    "version": 3
   },
   "file_extension": ".py",
   "mimetype": "text/x-python",
   "name": "python",
   "nbconvert_exporter": "python",
   "pygments_lexer": "ipython3",
   "version": "3.10.14"
  }
 },
 "nbformat": 4,
 "nbformat_minor": 2
}
